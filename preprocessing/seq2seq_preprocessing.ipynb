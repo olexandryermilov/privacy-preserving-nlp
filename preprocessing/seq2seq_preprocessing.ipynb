{
  "cells": [
    {
      "cell_type": "code",
      "execution_count": null,
      "id": "6120c176-7bb0-4a2c-b50e-e5fe3f2cf850",
      "metadata": {
        "tags": [],
        "colab": {
          "referenced_widgets": [
            "53b1020c19c946e3bab2b72323823dcd"
          ]
        },
        "id": "6120c176-7bb0-4a2c-b50e-e5fe3f2cf850",
        "outputId": "27c14bc8-5576-4932-9b45-be3f12150860"
      },
      "outputs": [
        {
          "name": "stderr",
          "output_type": "stream",
          "text": [
            "Found cached dataset csv (/home/oleksandr.yermilov/.cache/huggingface/datasets/csv/default-fb3f541b93165b8b/0.0.0/6954658bab30a358235fa864b05cf819af0e179325c740e4bc853bcc7ec513e1)\n"
          ]
        },
        {
          "data": {
            "application/vnd.jupyter.widget-view+json": {
              "model_id": "53b1020c19c946e3bab2b72323823dcd",
              "version_major": 2,
              "version_minor": 0
            },
            "text/plain": [
              "  0%|          | 0/1 [00:00<?, ?it/s]"
            ]
          },
          "metadata": {},
          "output_type": "display_data"
        },
        {
          "name": "stderr",
          "output_type": "stream",
          "text": [
            "100%|███████████████████████████████████████████████████████████████████████████████████████████████████████████████████████████████████████████████████████████████████████████████████| 4/4 [00:03<00:00,  1.27it/s]"
          ]
        },
        {
          "name": "stdout",
          "output_type": "stream",
          "text": [
            "By . Floor Blythe . Pep Guardiola will never be sacked as Bayern Munich head coach according to the Bundesliga champions' chairman. Karl-Heinz Rummenigge was questioned about whether or not he was worried that many of Bayern's German World Cup-winning stars had yet to return to pre-season training when he made the claim. German newspaper Welt am Sonntag carried an article on Sunday claiming Guardiola's side could struggle this season due to the tiring World Cup campaign. VIDEO Scroll down to watch Pep Guardiola lose it with a journalist and get soaked in beer . Forever: Bayern Munich chairman Jörn-Heinz Rummenigge says the club will 'never' sack boss Pep Guardiola.\n"
          ]
        },
        {
          "name": "stderr",
          "output_type": "stream",
          "text": [
            "\n"
          ]
        }
      ],
      "source": [
        "import torch\n",
        "import torch.distributed as dist\n",
        "import torch.multiprocessing as mp\n",
        "from transformers import pipeline\n",
        "from transformers.pipelines.pt_utils import KeyDataset\n",
        "import datasets\n",
        "from transformers import (\n",
        "    AutoConfig,\n",
        "    AutoModelForSeq2SeqLM,\n",
        "    AutoTokenizer,\n",
        "    DataCollatorForSeq2Seq,\n",
        "    HfArgumentParser,\n",
        "    M2M100Tokenizer,\n",
        "    MBart50Tokenizer,\n",
        "    MBart50TokenizerFast,\n",
        "    MBartTokenizer,\n",
        "    MBartTokenizerFast,\n",
        "    Seq2SeqTrainer,\n",
        "    Seq2SeqTrainingArguments,\n",
        "    default_data_collator,\n",
        "    set_seed,\n",
        ")\n",
        "from transformers.trainer_utils import get_last_checkpoint\n",
        "from transformers.utils import check_min_version, send_example_telemetry\n",
        "from transformers.utils.versions import require_version\n",
        "import torch.nn.functional as F\n",
        "from datasets import load_dataset\n",
        "import re\n",
        "import csv\n",
        "from tqdm import tqdm"
      ]
    },
    {
      "cell_type": "code",
      "source": [
        "path_to_model = \"\"\n",
        "path_to_train_dataset = \"\"\n",
        "path_to_output = \"\""
      ],
      "metadata": {
        "id": "2ifIjtO_cFpu"
      },
      "id": "2ifIjtO_cFpu",
      "execution_count": null,
      "outputs": []
    },
    {
      "cell_type": "code",
      "source": [
        "generation_config = dict(\n",
        "    max_length=4096,\n",
        "    min_length=None,\n",
        "    do_sample=False,\n",
        "    early_stopping=True,\n",
        "    num_beams=1,\n",
        "    temperature=15.0,\n",
        "    top_k=None,\n",
        "    top_p=None,\n",
        "    length_penalty=1.0,\n",
        "    num_return_sequences=3,\n",
        "    max_time=None,\n",
        "    num_beam_groups=1,\n",
        "    output_scores=False,\n",
        ")\n",
        "\n",
        "rank = 0\n",
        "model_path = path_to_model\n",
        "\n",
        "_tokenizer = AutoTokenizer.from_pretrained(model_path)\n",
        "_model = AutoModelForSeq2SeqLM.from_pretrained(model_path)\n",
        "pipe = pipeline(\"translation\", model = _model, config = generation_config, batch_size=1, tokenizer = _tokenizer, max_length = 4096)\n",
        "\n",
        "# create a dataloader\n",
        "dataset = load_dataset(\"csv\", data_files=path_to_train_dataset)\n",
        "with open(path_to_output, \"w\") as f:\n",
        "        writer = csv.writer(f)\n",
        "        for out in tqdm(pipe(KeyDataset(dataset['train'], \"source\"), batch_size=8, truncation=\"only_first\")):\n",
        "            writer.writerow(out[0][\"translation_text\"])\n"
      ],
      "metadata": {
        "id": "s0tqxWpRcEY_"
      },
      "id": "s0tqxWpRcEY_",
      "execution_count": null,
      "outputs": []
    }
  ],
  "metadata": {
    "kernelspec": {
      "display_name": "Python 3 (ipykernel)",
      "language": "python",
      "name": "python3"
    },
    "language_info": {
      "codemirror_mode": {
        "name": "ipython",
        "version": 3
      },
      "file_extension": ".py",
      "mimetype": "text/x-python",
      "name": "python",
      "nbconvert_exporter": "python",
      "pygments_lexer": "ipython3",
      "version": "3.9.1"
    },
    "colab": {
      "provenance": []
    }
  },
  "nbformat": 4,
  "nbformat_minor": 5
}